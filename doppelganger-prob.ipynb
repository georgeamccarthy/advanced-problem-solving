{
 "cells": [
  {
   "cell_type": "markdown",
   "metadata": {},
   "source": [
    "# How many people in the world are my dopplerganger?\n",
    "\n",
    "Simplify:\n",
    "- Take into account: gender, skin tone, hair colour, height, BMI for 'passing resemblance'.\n",
    "- Only a fraction of these are similar looking.\n",
    "- Only a fraction of these are my doppleganger.\n",
    "\n",
    "Me\n",
    "- Gender: Male\n",
    "- Skin tone: White, Type 2 on Fitzpatrick scale\n",
    "- Hair colour: Brown\n",
    "- Height: 6'2.5\n",
    "- BMI: 'normal'\n",
    "- Age: 22"
   ]
  },
  {
   "cell_type": "code",
   "execution_count": 1,
   "metadata": {},
   "outputs": [
    {
     "name": "stdout",
     "output_type": "stream",
     "text": [
      "0.020% of world have passing resemblance to me.\n"
     ]
    }
   ],
   "source": [
    "# Approx half of humans are male\n",
    "frac_gender = 1/2\n",
    "# Approx 10% of people in world are white\n",
    "frac_skin = 0.1\n",
    "# Fraction of men between 6' and 6'4 in Europe https://tall.life/height-percentile-calculator-age-country/\n",
    "frac_height = 0.218\n",
    "# Approx half of people have 'normal BMI'.\n",
    "frac_bmi = 0.5\n",
    "# Approx 1/3 of European people have hair colour varying from light to medium brown.\n",
    "# Significant variation in hair colour so this is an estimate https://www.researchgate.net/figure/Hair-color-prevalence-across-Europe_tbl2_330098152\n",
    "# Lots of non-European white people have black hair so 25%.\n",
    "frac_hair = 0.25\n",
    "# Approx 15% of people are of a similar age to me (18-25)\n",
    "frac_age = 0.15\n",
    "\n",
    "# Fraction of global population with \n",
    "frac_passing_resemblance = frac_gender*frac_skin*frac_height*frac_bmi*frac_hair*frac_age\n",
    "print(f\"{frac_passing_resemblance*100:.3f}% of world have passing resemblance to me.\")"
   ]
  },
  {
   "cell_type": "code",
   "execution_count": 3,
   "metadata": {},
   "outputs": [
    {
     "name": "stdout",
     "output_type": "stream",
     "text": [
      "1.6e+06 people with passing resemblace to me in the world.\n",
      "1615 people look quite similar to me.\n",
      "16 are my doppleganger.\n"
     ]
    }
   ],
   "source": [
    "global_population = 7.9e9\n",
    "# Number of people in the world with passing resemblance to me.\n",
    "no_passing_resemblance = frac_passing_resemblance*global_population\n",
    "\n",
    "print(f\"{no_passing_resemblance:.1e} people with passing resemblace to me in the world.\")\n",
    "\n",
    "# Fraction of people with more similarity to me.\n",
    "similarity_frac = 1/1000\n",
    "# Fraction of those people with 'doppleganger' level similarity to me.\n",
    "doppleganer_frac = 1/100\n",
    "\n",
    "print(f\"{no_passing_resemblance * similarity_frac:.0f} people look quite similar to me.\")\n",
    "print(f\"{no_passing_resemblance * similarity_frac * doppleganer_frac:.0f} are my doppleganger.\")"
   ]
  },
  {
   "cell_type": "markdown",
   "metadata": {},
   "source": [
    "Reasonable answers."
   ]
  },
  {
   "cell_type": "markdown",
   "metadata": {},
   "source": []
  }
 ],
 "metadata": {
  "interpreter": {
   "hash": "b0fa6594d8f4cbf19f97940f81e996739fb7646882a419484c72d19e05852a7e"
  },
  "kernelspec": {
   "display_name": "Python 3.9.7 64-bit",
   "language": "python",
   "name": "python3"
  },
  "language_info": {
   "codemirror_mode": {
    "name": "ipython",
    "version": 3
   },
   "file_extension": ".py",
   "mimetype": "text/x-python",
   "name": "python",
   "nbconvert_exporter": "python",
   "pygments_lexer": "ipython3",
   "version": "3.9.7"
  },
  "orig_nbformat": 4
 },
 "nbformat": 4,
 "nbformat_minor": 2
}
