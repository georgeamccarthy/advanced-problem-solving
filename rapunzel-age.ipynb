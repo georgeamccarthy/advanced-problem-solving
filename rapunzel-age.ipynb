{
 "cells": [
  {
   "cell_type": "markdown",
   "metadata": {},
   "source": [
    "# How old was Rapunzel?\n",
    "*Given that Rapunzel would not jump from the tower because it was too tall, but the knight climbed up her hair instead, how old was she?*\n",
    "\n",
    "Simplify:\n",
    "- Assume she never had a haircut.\n",
    "- Assume typical white European female.\n",
    "- Assume grass below tower.\n",
    "- Assume Rapunzel didn't know parkour.\n",
    "- Assume she wanted to avoid significant bodily injury (people have fallen from termal velocity > 100k feet and survived with extreme injuries.)"
   ]
  },
  {
   "cell_type": "code",
   "execution_count": 19,
   "metadata": {},
   "outputs": [
    {
     "name": "stdout",
     "output_type": "stream",
     "text": [
      "tower height if grass = 9.75 m\n",
      "tower height if hard surfance below = 7.15 m\n",
      "minimum age = 71.2 years\n",
      "minimum age = 51.2 years\n"
     ]
    }
   ],
   "source": [
    "# World renowned parkour athelte Dom Tomato has a video called WORLDS BIGGEST HEIGHT DROP!? (6.5m no roll) https://www.youtube.com/watch?v=HlZlzn1NFWQ\n",
    "# She would probably risk some amount of injurt because she was imprisoned, therefore tower was ~50% higher.\n",
    "tower_height_grass = 6.5*1.5 # m\n",
    "print(f\"tower height if grass = {tower_height_grass} m\")\n",
    "\n",
    "tower_height_hard = 6.5*1.1 # m\n",
    "print(f\"tower height if hard surfance below = {tower_height_hard} m\")\n",
    "\n",
    "# https://www.livescience.com/42868-how-fast-does-hair-grow.html\n",
    "# Typical white female growth rate.\n",
    "typical_growth_rate = 13e-2 # m year-1\n",
    "\n",
    "# Minimum age is when her hair was long enough for the knight to reach.\n",
    "minimum_age_grass = (tower_height_grass - 0.5) / typical_growth_rate\n",
    "print(f\"minimum age = {minimum_age_grass:.1f} years\")\n",
    "\n",
    "minimum_age_hard = (tower_height_hard - 0.5) / typical_growth_rate\n",
    "print(f\"minimum age = {minimum_age_hard:.1f} years\")\n"
   ]
  },
  {
   "cell_type": "code",
   "execution_count": 22,
   "metadata": {},
   "outputs": [
    {
     "name": "stdout",
     "output_type": "stream",
     "text": [
      "hair length = 2.3 m\n"
     ]
    }
   ],
   "source": [
    "# Rapunzel is typically said to be 18 years old.\n",
    "# The longest her hair could have been given typical growth rate was.\n",
    "\n",
    "hair_length = typical_growth_rate * 18\n",
    "print(f\"hair length = {hair_length:.1f} m\")\n",
    "\n",
    "# But this is easily jump-able."
   ]
  },
  {
   "cell_type": "markdown",
   "metadata": {},
   "source": [
    "So let's change the question...\n",
    "\n",
    "# How fast did Rapunzel's hair grow given she was 18 when rescued?"
   ]
  },
  {
   "cell_type": "code",
   "execution_count": 26,
   "metadata": {},
   "outputs": [
    {
     "name": "stdout",
     "output_type": "stream",
     "text": [
      "growth rate = 51.4 cm year-1\n",
      "This is 4 times faster than the typical growth rate.\n"
     ]
    }
   ],
   "source": [
    "# Assume grass -> 9.75 m tower from previous working \n",
    "\n",
    "growth_rate = (tower_height_grass-0.5) / 18\n",
    "print(f\"growth rate = {growth_rate*100:.1f} cm year-1\")\n",
    "\n",
    "\n",
    "print(f\"This is {growth_rate / typical_growth_rate:.0f} times faster than the typical growth rate.\")"
   ]
  }
 ],
 "metadata": {
  "interpreter": {
   "hash": "b0fa6594d8f4cbf19f97940f81e996739fb7646882a419484c72d19e05852a7e"
  },
  "kernelspec": {
   "display_name": "Python 3.9.7 64-bit",
   "language": "python",
   "name": "python3"
  },
  "language_info": {
   "codemirror_mode": {
    "name": "ipython",
    "version": 3
   },
   "file_extension": ".py",
   "mimetype": "text/x-python",
   "name": "python",
   "nbconvert_exporter": "python",
   "pygments_lexer": "ipython3",
   "version": "3.9.7"
  },
  "orig_nbformat": 4
 },
 "nbformat": 4,
 "nbformat_minor": 2
}
